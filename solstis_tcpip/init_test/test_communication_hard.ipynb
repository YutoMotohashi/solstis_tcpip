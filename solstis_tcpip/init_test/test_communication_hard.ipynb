{
 "cells": [
  {
   "cell_type": "code",
   "execution_count": null,
   "metadata": {},
   "outputs": [],
   "source": [
    "from solstis_tcpip import solstis_core"
   ]
  },
  {
   "cell_type": "code",
   "execution_count": null,
   "metadata": {},
   "outputs": [],
   "source": [
    "solstis_ip = \n",
    "port = \n",
    "my_ip = \n",
    "\n",
    "hard_solstis = solstis_core.SolstisCore(server_ip=solstis_ip, server_port=port)\n",
    "hard_solstis.connect(timeout=5)\n",
    "hard_solstis.start_link(ip_address=my_ip)\n",
    "hard_solstis.disconnect()"
   ]
  }
 ],
 "metadata": {
  "language_info": {
   "name": "python"
  },
  "orig_nbformat": 4
 },
 "nbformat": 4,
 "nbformat_minor": 2
}
