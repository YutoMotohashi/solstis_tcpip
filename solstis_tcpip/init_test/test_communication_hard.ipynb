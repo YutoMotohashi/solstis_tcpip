{
 "cells": [
  {
   "cell_type": "code",
   "execution_count": 24,
   "metadata": {},
   "outputs": [
    {
     "name": "stdout",
     "output_type": "stream",
     "text": [
      "The autoreload extension is already loaded. To reload it, use:\n",
      "  %reload_ext autoreload\n"
     ]
    }
   ],
   "source": [
    "%load_ext autoreload\n",
    "%autoreload 2\n"
   ]
  },
  {
   "cell_type": "code",
   "execution_count": 25,
   "metadata": {},
   "outputs": [],
   "source": [
    "from solstis_tcpip import solstis_core"
   ]
  },
  {
   "cell_type": "code",
   "execution_count": 26,
   "metadata": {},
   "outputs": [],
   "source": [
    "from dotenv import load_dotenv\n",
    "import os\n",
    "\n",
    "# Load .env file\n",
    "load_dotenv()\n",
    "\n",
    "solstis_ip =  os.getenv('SOLSTIS_IP')\n",
    "port = int(os.getenv('PORT'))\n",
    "my_ip = os.getenv(\"MY_IP\")\n",
    "hard_solstis = solstis_core.SolstisCore(server_ip=solstis_ip, server_port=port)\n"
   ]
  },
  {
   "cell_type": "code",
   "execution_count": 27,
   "metadata": {},
   "outputs": [
    {
     "name": "stdout",
     "output_type": "stream",
     "text": [
      "solstis_ip: 192.168.1.222\n",
      "my ip : 192.168.1.100\n"
     ]
    }
   ],
   "source": [
    "print(f\"solstis_ip: {solstis_ip}\")\n",
    "print(f\"my ip : {my_ip}\")"
   ]
  },
  {
   "cell_type": "code",
   "execution_count": 28,
   "metadata": {},
   "outputs": [],
   "source": [
    "hard_solstis.connect(timeout=5)"
   ]
  },
  {
   "cell_type": "code",
   "execution_count": 29,
   "metadata": {},
   "outputs": [
    {
     "name": "stdout",
     "output_type": "stream",
     "text": [
      "{\"message\": {\"transmission_id\": [1], \"op\": \"start_link\", \"parameters\": {\"ip_address\": \"192.168.1.100\"}}}\n",
      "{'message': {'transmission_id': [1], 'op': 'start_link_reply', 'parameters': {'ip_address': '192.168.1.222', 'status': 'ok'}}}\n"
     ]
    }
   ],
   "source": [
    "\n",
    "response = hard_solstis.start_link(ip_address=my_ip)\n",
    "print(response)"
   ]
  },
  {
   "cell_type": "code",
   "execution_count": 30,
   "metadata": {},
   "outputs": [
    {
     "name": "stdout",
     "output_type": "stream",
     "text": [
      "{\"message\": {\"transmission_id\": [2], \"op\": \"ping\", \"parameters\": {\"text_in\": \"HelloWorld\"}}}\n",
      "{'message': {'transmission_id': [2], 'op': 'ping_reply', 'parameters': {'text_out': 'hELLOwORLD'}}}\n"
     ]
    }
   ],
   "source": [
    "response = hard_solstis.ping(\"HelloWorld\")\n",
    "print(response)"
   ]
  },
  {
   "cell_type": "code",
   "execution_count": 31,
   "metadata": {},
   "outputs": [
    {
     "name": "stdout",
     "output_type": "stream",
     "text": [
      "{\"message\": {\"transmission_id\": [3], \"op\": \"poll_wave_m\"}}\n"
     ]
    },
    {
     "ename": "SolstisError",
     "evalue": "('No link to wavelength meter or no meter configured.', 2)",
     "output_type": "error",
     "traceback": [
      "\u001b[1;31m---------------------------------------------------------------------------\u001b[0m",
      "\u001b[1;31mSolstisError\u001b[0m                              Traceback (most recent call last)",
      "Cell \u001b[1;32mIn[31], line 1\u001b[0m\n\u001b[1;32m----> 1\u001b[0m response \u001b[39m=\u001b[39m hard_solstis\u001b[39m.\u001b[39;49mpoll_wave_m()\n\u001b[0;32m      2\u001b[0m \u001b[39mprint\u001b[39m(response)\n",
      "File \u001b[1;32mC:\\Users\\Public\\Documents\\729_laser_interface\\solstis_tcpip\\solstis_tcpip\\solstis_core.py:1507\u001b[0m, in \u001b[0;36mSolstisCore.poll_wave_m\u001b[1;34m(self)\u001b[0m\n\u001b[0;32m   1503\u001b[0m \u001b[39m\u001b[39m\u001b[39m\"\"\"\u001b[39;00m\n\u001b[0;32m   1504\u001b[0m \u001b[39mParameters: None\u001b[39;00m\n\u001b[0;32m   1505\u001b[0m \u001b[39m\"\"\"\u001b[39;00m\n\u001b[0;32m   1506\u001b[0m kw_args \u001b[39m=\u001b[39m {}\n\u001b[1;32m-> 1507\u001b[0m \u001b[39mreturn\u001b[39;00m \u001b[39mself\u001b[39m\u001b[39m.\u001b[39mcommand(\u001b[39m2\u001b[39m, \u001b[39m*\u001b[39m\u001b[39m*\u001b[39mkw_args)\n",
      "File \u001b[1;32mC:\\Users\\Public\\Documents\\729_laser_interface\\solstis_tcpip\\solstis_tcpip\\solstis_core.py:1473\u001b[0m, in \u001b[0;36mSolstisCore.command\u001b[1;34m(self, command_id, **kwargs)\u001b[0m\n\u001b[0;32m   1471\u001b[0m \u001b[39massert\u001b[39;00m command_id \u001b[39min\u001b[39;00m \u001b[39mself\u001b[39m\u001b[39m.\u001b[39m_command, \u001b[39mf\u001b[39m\u001b[39m\"\u001b[39m\u001b[39mInvalid command ID. \u001b[39m\u001b[39m{\u001b[39;00mcommand_id\u001b[39m}\u001b[39;00m\u001b[39m\"\u001b[39m\n\u001b[0;32m   1472\u001b[0m response \u001b[39m=\u001b[39m (\u001b[39mself\u001b[39m\u001b[39m.\u001b[39m_command[command_id])(\u001b[39mself\u001b[39m, transmission_id, \u001b[39m*\u001b[39m\u001b[39m*\u001b[39mkwargs)\n\u001b[1;32m-> 1473\u001b[0m \u001b[39mself\u001b[39;49m\u001b[39m.\u001b[39;49m_check_response(response)\n\u001b[0;32m   1474\u001b[0m \u001b[39mreturn\u001b[39;00m response\n",
      "File \u001b[1;32mC:\\Users\\Public\\Documents\\729_laser_interface\\solstis_tcpip\\solstis_tcpip\\solstis_core.py:1401\u001b[0m, in \u001b[0;36mSolstisCore._check_response\u001b[1;34m(self, response)\u001b[0m\n\u001b[0;32m   1398\u001b[0m         \u001b[39mprint\u001b[39m(\u001b[39mf\u001b[39m\u001b[39m\"\u001b[39m\u001b[39mStatus: \u001b[39m\u001b[39m{\u001b[39;00mstatus\u001b[39m}\u001b[39;00m\u001b[39m\"\u001b[39m)\n\u001b[0;32m   1399\u001b[0m         \u001b[39mraise\u001b[39;00m SolstisError(\u001b[39m\"\u001b[39m\u001b[39mInvalid operation.\u001b[39m\u001b[39m\"\u001b[39m, severity\u001b[39m=\u001b[39m\u001b[39m2\u001b[39m)\n\u001b[1;32m-> 1401\u001b[0m _handle_operation(operation, status)\n",
      "File \u001b[1;32mC:\\Users\\Public\\Documents\\729_laser_interface\\solstis_tcpip\\solstis_tcpip\\solstis_core.py:1393\u001b[0m, in \u001b[0;36mSolstisCore._check_response.<locals>._handle_operation\u001b[1;34m(operation, status)\u001b[0m\n\u001b[0;32m   1391\u001b[0m \u001b[39mif\u001b[39;00m status \u001b[39min\u001b[39;00m status_messages_severity[op_index]:\n\u001b[0;32m   1392\u001b[0m     \u001b[39mif\u001b[39;00m status_messages_severity[op_index][status][\u001b[39m1\u001b[39m] \u001b[39m!=\u001b[39m \u001b[39m0\u001b[39m:\n\u001b[1;32m-> 1393\u001b[0m         \u001b[39mraise\u001b[39;00m SolstisError(\u001b[39m*\u001b[39mstatus_messages_severity[op_index][status])\n\u001b[0;32m   1394\u001b[0m \u001b[39melse\u001b[39;00m:\n\u001b[0;32m   1395\u001b[0m     \u001b[39mraise\u001b[39;00m SolstisError(\u001b[39m\"\u001b[39m\u001b[39mUnknown error.\u001b[39m\u001b[39m\"\u001b[39m, severity\u001b[39m=\u001b[39m\u001b[39m2\u001b[39m)\n",
      "\u001b[1;31mSolstisError\u001b[0m: ('No link to wavelength meter or no meter configured.', 2)"
     ]
    }
   ],
   "source": [
    "response = hard_solstis.poll_wave_m()\n",
    "print(response)"
   ]
  },
  {
   "cell_type": "code",
   "execution_count": 32,
   "metadata": {},
   "outputs": [
    {
     "name": "stdout",
     "output_type": "stream",
     "text": [
      "{\"message\": {\"transmission_id\": [4], \"op\": \"get_status\"}}\n"
     ]
    },
    {
     "data": {
      "text/plain": [
       "Box({'message': {'transmission_id': [4], 'op': 'get_status_reply', 'parameters': {'status': [0], 'wavelength': [728.992], 'temperature': [226.762939], 'temperature_status': 'off', 'etalon_lock': 'low', 'etalon_voltage': [98.140717], 'cavity_lock': 'off', 'resonator_voltage': [97.87661], 'ecd_lock': 'not_fitted', 'ecd_voltage': 'not_fitted', 'output_monitor': [4.4e-05], 'etalon_pd_dc': [0.000136], 'dither': 'on'}}})"
      ]
     },
     "execution_count": 32,
     "metadata": {},
     "output_type": "execute_result"
    }
   ],
   "source": [
    "hard_solstis.get_status()"
   ]
  },
  {
   "cell_type": "code",
   "execution_count": 33,
   "metadata": {},
   "outputs": [],
   "source": [
    "hard_solstis.disconnect()"
   ]
  },
  {
   "cell_type": "code",
   "execution_count": null,
   "metadata": {},
   "outputs": [],
   "source": []
  }
 ],
 "metadata": {
  "kernelspec": {
   "display_name": "Python 3",
   "language": "python",
   "name": "python3"
  },
  "language_info": {
   "codemirror_mode": {
    "name": "ipython",
    "version": 3
   },
   "file_extension": ".py",
   "mimetype": "text/x-python",
   "name": "python",
   "nbconvert_exporter": "python",
   "pygments_lexer": "ipython3",
   "version": "3.9.13"
  },
  "orig_nbformat": 4
 },
 "nbformat": 4,
 "nbformat_minor": 2
}
