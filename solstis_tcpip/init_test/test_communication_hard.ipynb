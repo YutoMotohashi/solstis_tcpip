{
 "cells": [
  {
   "cell_type": "code",
   "execution_count": 1,
   "metadata": {},
   "outputs": [],
   "source": [
    "%load_ext autoreload\n",
    "%autoreload 2\n"
   ]
  },
  {
   "cell_type": "code",
   "execution_count": 2,
   "metadata": {},
   "outputs": [],
   "source": [
    "from solstis_tcpip import solstis_core"
   ]
  },
  {
   "cell_type": "code",
   "execution_count": 3,
   "metadata": {},
   "outputs": [],
   "source": [
    "solstis_ip = \"192.168.1.225\"\n",
    "port = 49946\n",
    "my_ip = \"192.168.1.100\"\n",
    "\n",
    "hard_solstis = solstis_core.SolstisCore(server_ip=solstis_ip, server_port=port)\n"
   ]
  },
  {
   "cell_type": "code",
   "execution_count": 4,
   "metadata": {},
   "outputs": [],
   "source": [
    "hard_solstis.connect(timeout=5)"
   ]
  },
  {
   "cell_type": "code",
   "execution_count": 5,
   "metadata": {},
   "outputs": [
    {
     "name": "stdout",
     "output_type": "stream",
     "text": [
      "{\"message\": {\"transmission_id\": [1], \"op\": \"start_link\", \"parameters\": {\"ip_address\": \"192.168.1.100\"}}}\n",
      "{'message': {'transmission_id': [1], 'op': 'start_link_reply', 'parameters': {'ip_address': '192.168.1.225', 'status': 'ok'}}}\n"
     ]
    }
   ],
   "source": [
    "\n",
    "response = hard_solstis.start_link(ip_address=my_ip)\n",
    "print(response)"
   ]
  },
  {
   "cell_type": "code",
   "execution_count": 6,
   "metadata": {},
   "outputs": [
    {
     "name": "stdout",
     "output_type": "stream",
     "text": [
      "{\"message\": {\"transmission_id\": [2], \"op\": \"ping\", \"parameters\": {\"text_in\": \"HelloWorld\"}}}\n",
      "{'message': {'transmission_id': [2], 'op': 'ping_reply', 'parameters': {'text_out': 'hELLOwORLD'}}}\n"
     ]
    }
   ],
   "source": [
    "response = hard_solstis.ping(\"HelloWorld\")\n",
    "print(response)"
   ]
  },
  {
   "cell_type": "code",
   "execution_count": 8,
   "metadata": {},
   "outputs": [
    {
     "name": "stdout",
     "output_type": "stream",
     "text": [
      "{\"message\": {\"transmission_id\": [4], \"op\": \"poll_wave_m\"}}\n"
     ]
    },
    {
     "ename": "SolstisError",
     "evalue": "(\"Mesage with ID 4 failed to parse.\\n\\n{'message': {'transmission_id': [4], 'op': 'parse_fail', 'parameters': {'protocol_error': [7]}}}\", 10)",
     "output_type": "error",
     "traceback": [
      "\u001b[1;31m---------------------------------------------------------------------------\u001b[0m",
      "\u001b[1;31mSolstisError\u001b[0m                              Traceback (most recent call last)",
      "Cell \u001b[1;32mIn[8], line 1\u001b[0m\n\u001b[1;32m----> 1\u001b[0m response \u001b[39m=\u001b[39m hard_solstis\u001b[39m.\u001b[39;49mpoll_wave_m()\n\u001b[0;32m      2\u001b[0m \u001b[39mprint\u001b[39m(response)\n",
      "File \u001b[1;32mC:\\Users\\Public\\Documents\\729_laser_interface\\solstis_tcpip\\solstis_tcpip\\solstis_core.py:1505\u001b[0m, in \u001b[0;36mSolstisCore.poll_wave_m\u001b[1;34m(self)\u001b[0m\n\u001b[0;32m   1501\u001b[0m \u001b[39m\u001b[39m\u001b[39m\"\"\"\u001b[39;00m\n\u001b[0;32m   1502\u001b[0m \u001b[39mParameters: None\u001b[39;00m\n\u001b[0;32m   1503\u001b[0m \u001b[39m\"\"\"\u001b[39;00m\n\u001b[0;32m   1504\u001b[0m kw_args \u001b[39m=\u001b[39m {}\n\u001b[1;32m-> 1505\u001b[0m \u001b[39mreturn\u001b[39;00m \u001b[39mself\u001b[39m\u001b[39m.\u001b[39mcommand(\u001b[39m2\u001b[39m, \u001b[39m*\u001b[39m\u001b[39m*\u001b[39mkw_args)\n",
      "File \u001b[1;32mC:\\Users\\Public\\Documents\\729_laser_interface\\solstis_tcpip\\solstis_tcpip\\solstis_core.py:1470\u001b[0m, in \u001b[0;36mSolstisCore.command\u001b[1;34m(self, command_id, **kwargs)\u001b[0m\n\u001b[0;32m   1468\u001b[0m transmission_id \u001b[39m=\u001b[39m \u001b[39mself\u001b[39m\u001b[39m.\u001b[39m_allocate_transmission_id()\n\u001b[0;32m   1469\u001b[0m \u001b[39massert\u001b[39;00m command_id \u001b[39min\u001b[39;00m \u001b[39mself\u001b[39m\u001b[39m.\u001b[39m_command, \u001b[39mf\u001b[39m\u001b[39m\"\u001b[39m\u001b[39mInvalid command ID. \u001b[39m\u001b[39m{\u001b[39;00mcommand_id\u001b[39m}\u001b[39;00m\u001b[39m\"\u001b[39m\n\u001b[1;32m-> 1470\u001b[0m response \u001b[39m=\u001b[39m (\u001b[39mself\u001b[39m\u001b[39m.\u001b[39m_command[command_id])(\u001b[39mself\u001b[39m, transmission_id, \u001b[39m*\u001b[39m\u001b[39m*\u001b[39mkwargs)\n\u001b[0;32m   1471\u001b[0m \u001b[39mself\u001b[39m\u001b[39m.\u001b[39m_check_response(response)\n\u001b[0;32m   1472\u001b[0m \u001b[39mreturn\u001b[39;00m response\n",
      "File \u001b[1;32mC:\\Users\\Public\\Documents\\729_laser_interface\\solstis_tcpip\\solstis_tcpip\\solstis_core.py:192\u001b[0m, in \u001b[0;36mSolstisCore._poll_wave_m\u001b[1;34m(self, transmission_id)\u001b[0m\n\u001b[0;32m    190\u001b[0m \u001b[39mself\u001b[39m\u001b[39m.\u001b[39msend_command(transmission_id, \u001b[39m\"\u001b[39m\u001b[39mpoll_wave_m\u001b[39m\u001b[39m\"\u001b[39m)\n\u001b[0;32m    191\u001b[0m response \u001b[39m=\u001b[39m \u001b[39mself\u001b[39m\u001b[39m.\u001b[39mreceive_response()\n\u001b[1;32m--> 192\u001b[0m \u001b[39mself\u001b[39;49m\u001b[39m.\u001b[39;49m_verify_messsage(\n\u001b[0;32m    193\u001b[0m     response, op\u001b[39m=\u001b[39;49m\u001b[39m\"\u001b[39;49m\u001b[39mpoll_wave_m_reply\u001b[39;49m\u001b[39m\"\u001b[39;49m, transmission_id\u001b[39m=\u001b[39;49mtransmission_id\n\u001b[0;32m    194\u001b[0m )\n\u001b[0;32m    196\u001b[0m \u001b[39mreturn\u001b[39;00m response\n",
      "File \u001b[1;32mC:\\Users\\Public\\Documents\\729_laser_interface\\solstis_tcpip\\solstis_tcpip\\solstis_core.py:84\u001b[0m, in \u001b[0;36mSolstisCore._verify_messsage\u001b[1;34m(self, message, op, transmission_id)\u001b[0m\n\u001b[0;32m     82\u001b[0m     err_msg \u001b[39m=\u001b[39m \u001b[39m\"\u001b[39m\u001b[39mMesage with ID \u001b[39m\u001b[39m\"\u001b[39m \u001b[39m+\u001b[39m \u001b[39mstr\u001b[39m(msgID) \u001b[39m+\u001b[39m \u001b[39m\"\u001b[39m\u001b[39m failed to parse.\u001b[39m\u001b[39m\"\u001b[39m\n\u001b[0;32m     83\u001b[0m     err_msg \u001b[39m+\u001b[39m\u001b[39m=\u001b[39m \u001b[39m\"\u001b[39m\u001b[39m\\n\u001b[39;00m\u001b[39m\\n\u001b[39;00m\u001b[39m\"\u001b[39m \u001b[39m+\u001b[39m \u001b[39mstr\u001b[39m(message)\n\u001b[1;32m---> 84\u001b[0m     \u001b[39mraise\u001b[39;00m SolstisError(err_msg, \u001b[39m10\u001b[39m)\n\u001b[0;32m     85\u001b[0m \u001b[39mif\u001b[39;00m transmission_id \u001b[39mis\u001b[39;00m \u001b[39mnot\u001b[39;00m \u001b[39mNone\u001b[39;00m:\n\u001b[0;32m     86\u001b[0m     \u001b[39mif\u001b[39;00m msgID \u001b[39m!=\u001b[39m transmission_id:\n",
      "\u001b[1;31mSolstisError\u001b[0m: (\"Mesage with ID 4 failed to parse.\\n\\n{'message': {'transmission_id': [4], 'op': 'parse_fail', 'parameters': {'protocol_error': [7]}}}\", 10)"
     ]
    }
   ],
   "source": [
    "response = hard_solstis.poll_wave_m()\n",
    "print(response)"
   ]
  },
  {
   "cell_type": "code",
   "execution_count": 96,
   "metadata": {},
   "outputs": [],
   "source": [
    "hard_solstis.disconnect()"
   ]
  }
 ],
 "metadata": {
  "kernelspec": {
   "display_name": "Python 3",
   "language": "python",
   "name": "python3"
  },
  "language_info": {
   "codemirror_mode": {
    "name": "ipython",
    "version": 3
   },
   "file_extension": ".py",
   "mimetype": "text/x-python",
   "name": "python",
   "nbconvert_exporter": "python",
   "pygments_lexer": "ipython3",
   "version": "3.9.13"
  },
  "orig_nbformat": 4
 },
 "nbformat": 4,
 "nbformat_minor": 2
}
