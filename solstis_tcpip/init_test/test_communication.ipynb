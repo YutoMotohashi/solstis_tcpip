{
 "cells": [
  {
   "cell_type": "code",
   "execution_count": 13,
   "metadata": {},
   "outputs": [
    {
     "name": "stdout",
     "output_type": "stream",
     "text": [
      "The autoreload extension is already loaded. To reload it, use:\n",
      "  %reload_ext autoreload\n"
     ]
    }
   ],
   "source": [
    "%load_ext autoreload\n",
    "%autoreload 2"
   ]
  },
  {
   "cell_type": "code",
   "execution_count": 113,
   "metadata": {},
   "outputs": [],
   "source": [
    "from solstis_tcpip import solstis_core"
   ]
  },
  {
   "cell_type": "code",
   "execution_count": 114,
   "metadata": {},
   "outputs": [],
   "source": [
    "my_ip = '192.168.1.107'\n",
    "\n",
    "solstis = solstis_core.MockSolstisCore(server_ip='192.168.1.222',server_port=39933)\n"
   ]
  },
  {
   "cell_type": "code",
   "execution_count": 115,
   "metadata": {},
   "outputs": [],
   "source": [
    "solstis.connect()"
   ]
  },
  {
   "cell_type": "code",
   "execution_count": 116,
   "metadata": {},
   "outputs": [
    {
     "name": "stdout",
     "output_type": "stream",
     "text": [
      "{'message': {'transmission_id': [1], 'op': 'start_link', 'parameters': {'ip_address': '192.168.1.107'}}}\n",
      "<class 'dict'>\n",
      "{'transmission_id': [1], 'op': 'start_link', 'parameters': {'ip_address': '192.168.1.107'}}\n",
      "[1]\n"
     ]
    }
   ],
   "source": [
    "\n",
    "response = solstis.start_link(ip_address=my_ip)\n",
    "assert response[\"message\"][\"parameters\"][\"status\"] == \"ok\"\n"
   ]
  },
  {
   "cell_type": "code",
   "execution_count": 76,
   "metadata": {},
   "outputs": [],
   "source": [
    "solstis.disconnect()"
   ]
  },
  {
   "cell_type": "code",
   "execution_count": 117,
   "metadata": {},
   "outputs": [
    {
     "name": "stdout",
     "output_type": "stream",
     "text": [
      "{'message': {'transmission_id': [2], 'op': 'start_link', 'parameters': {'ip_address': '192.168.1.107'}}}\n",
      "<class 'dict'>\n",
      "{'transmission_id': [2], 'op': 'start_link', 'parameters': {'ip_address': '192.168.1.107'}}\n",
      "[2]\n"
     ]
    }
   ],
   "source": [
    "\n",
    "response = solstis.start_link(ip_address=my_ip)\n",
    "assert response[\"message\"][\"parameters\"][\"status\"] == \"ok\"\n"
   ]
  },
  {
   "cell_type": "code",
   "execution_count": 118,
   "metadata": {},
   "outputs": [
    {
     "name": "stdout",
     "output_type": "stream",
     "text": [
      "{'message': {'transmission_id': [3], 'op': 'set_wave_m', 'parameters': {'wavelength': 500.0}}}\n",
      "<class 'dict'>\n",
      "{'transmission_id': [3], 'op': 'set_wave_m', 'parameters': {'wavelength': 500.0}}\n",
      "[3]\n"
     ]
    },
    {
     "data": {
      "text/plain": [
       "Box({'message': {'transmission_id': [3], 'op': 'set_wave_m_reply', 'parameters': {'status': 0, 'current_wavelength': 500, 'extended_zone': 0}}})"
      ]
     },
     "execution_count": 118,
     "metadata": {},
     "output_type": "execute_result"
    }
   ],
   "source": [
    "solstis.set_wave_m(500.)"
   ]
  },
  {
   "cell_type": "code",
   "execution_count": 124,
   "metadata": {},
   "outputs": [
    {
     "name": "stdout",
     "output_type": "stream",
     "text": [
      "{'message': {'transmission_id': [45], 'op': 'fine_tune_cavity', 'parameters': {'setting': 50}}}\n",
      "<class 'dict'>\n",
      "{'transmission_id': [45], 'op': 'fine_tune_cavity', 'parameters': {'setting': 50}}\n",
      "[45]\n",
      "{'message': {'transmission_id': [46], 'op': 'fine_tune_resonator', 'parameters': {'setting': 40}}}\n",
      "<class 'dict'>\n",
      "{'transmission_id': [46], 'op': 'fine_tune_resonator', 'parameters': {'setting': 40}}\n",
      "[46]\n",
      "{'message': {'transmission_id': [47], 'op': 'lock_wave_m', 'parameters': {'operation': 'on'}}}\n",
      "<class 'dict'>\n",
      "{'transmission_id': [47], 'op': 'lock_wave_m', 'parameters': {'operation': 'on'}}\n",
      "[47]\n",
      "{'message': {'transmission_id': [48], 'op': 'move_wave_t', 'parameters': {'wavelength': 800}}}\n",
      "<class 'dict'>\n",
      "{'transmission_id': [48], 'op': 'move_wave_t', 'parameters': {'wavelength': 800}}\n",
      "[48]\n",
      "{'message': {'transmission_id': [49], 'op': 'poll_move_wave_t'}}\n",
      "<class 'dict'>\n",
      "{'transmission_id': [49], 'op': 'poll_move_wave_t'}\n",
      "[49]\n",
      "{'message': {'transmission_id': [50], 'op': 'poll_wave_m'}}\n",
      "<class 'dict'>\n",
      "{'transmission_id': [50], 'op': 'poll_wave_m'}\n",
      "[50]\n",
      "{'message': {'transmission_id': [51], 'op': 'set_wave_m', 'parameters': {'wavelength': 300}}}\n",
      "<class 'dict'>\n",
      "{'transmission_id': [51], 'op': 'set_wave_m', 'parameters': {'wavelength': 300}}\n",
      "[51]\n",
      "{'message': {'transmission_id': [52], 'op': 'stop_move_wave_t'}}\n",
      "<class 'dict'>\n",
      "{'transmission_id': [52], 'op': 'stop_move_wave_t'}\n",
      "[52]\n",
      "{'message': {'transmission_id': [53], 'op': 'stop_wave_m'}}\n",
      "<class 'dict'>\n",
      "{'transmission_id': [53], 'op': 'stop_wave_m'}\n",
      "[53]\n",
      "{'message': {'transmission_id': [54], 'op': 'tune_cavity', 'parameters': {'setting': 100}}}\n",
      "<class 'dict'>\n",
      "{'transmission_id': [54], 'op': 'tune_cavity', 'parameters': {'setting': 100}}\n",
      "[54]\n",
      "{'message': {'transmission_id': [55], 'op': 'tune_etalon', 'parameters': {'setting': 20}}}\n",
      "<class 'dict'>\n",
      "{'transmission_id': [55], 'op': 'tune_etalon', 'parameters': {'setting': 20}}\n",
      "[55]\n",
      "{'message': {'transmission_id': [56], 'op': 'tune_resonator', 'parameters': {'setting': 50}}}\n",
      "<class 'dict'>\n",
      "{'transmission_id': [56], 'op': 'tune_resonator', 'parameters': {'setting': 50}}\n",
      "[56]\n"
     ]
    },
    {
     "data": {
      "text/plain": [
       "Box({'message': {'transmission_id': [56], 'op': 'tune_resonator_reply', 'parameters': {'status': 0}}})"
      ]
     },
     "execution_count": 124,
     "metadata": {},
     "output_type": "execute_result"
    }
   ],
   "source": [
    "#solstis.connect()\n",
    "#solstis.connection()\n",
    "#solstis._create_dummy_response()\n",
    "#solstis.disconnect()\n",
    "solstis.fine_tune_cavity(50)\n",
    "solstis.fine_tune_resonator(40)\n",
    "#solstis.last_message_received\n",
    "solstis.lock_wave_m(True)\n",
    "solstis.move_wave_t(800)\n",
    "solstis.poll_move_wave_t()\n",
    "solstis.poll_wave_m()\n",
    "#solstis.receive_response()\n",
    "#solstis.response_buffer()\n",
    "#solstis.send_command?\n",
    "#solstis.server_ip?\n",
    "#solstis.server_port?\n",
    "solstis.set_wave_m(300)\n",
    "#solstis.start_link()\n",
    "solstis.stop_move_wave_t()\n",
    "solstis.stop_wave_m()\n",
    "solstis.tune_cavity(100)\n",
    "solstis.tune_etalon(20)\n",
    "solstis.tune_resonator(50)"
   ]
  }
 ],
 "metadata": {
  "kernelspec": {
   "display_name": "solstis-tcpip-dftgOBdj-py3.10",
   "language": "python",
   "name": "python3"
  },
  "language_info": {
   "codemirror_mode": {
    "name": "ipython",
    "version": 3
   },
   "file_extension": ".py",
   "mimetype": "text/x-python",
   "name": "python",
   "nbconvert_exporter": "python",
   "pygments_lexer": "ipython3",
   "version": "3.10.6"
  },
  "orig_nbformat": 4
 },
 "nbformat": 4,
 "nbformat_minor": 2
}
